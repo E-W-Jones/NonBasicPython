{
 "cells": [
  {
   "cell_type": "markdown",
   "id": "wicked-sacramento",
   "metadata": {},
   "source": [
    "# Non-basic python\n",
    "A collection of python featues that aren't basic, that you might not have been taught.\n",
    "\n",
    "Specifically developed with courses like Numerical Recipes in mind, that assume knowledge of python where previous courses might not have covered everything it would be useful to know.\n",
    "\n",
    "A lot of this is probably going to boil down to my own opinion!\n",
    "\n",
    "I would also definitely recommend [Learning Scientific Programming with Python](https://www-cambridge-org.ezproxy.is.ed.ac.uk/core/books/learning-scientific-programming-with-python/DEFE574792AE43C8B9AD23C8C39AB87F) by Christian Hill. (We have access to through the Uni)\n",
    "\n",
    "My main piece of advice is think through everything first, write it out on paper, print *everything* and check it's what you expect. \n",
    "\n",
    "I've purposefully avoided going in depth into different aspects, as I can't pretend to be an expert. I've tried to avoid using technical terms just for clarity, but this also makes it harder to research more yourself. Maybe I'll try to find a middle ground later.\n",
    "\n",
    "### Contents\n",
    "1. **Ipython and Jupyter**\n",
    "  * Magic Methods\n",
    "  * Markdown\n",
    "  * Autocomplete and greek letters\n",
    "1. **Strings**\n",
    "  * f-strings\n",
    "  * multi-line strings\n",
    "1. **Iteration**\n",
    "  * Looping through lists\n",
    "  * List comprehension\n",
    "  * enumerate\n",
    "  * zip\n",
    "  * Numpy\n",
    "1. **Functions**\n",
    "  * functions are variables too\n",
    "  * Anonymous Functions\n",
    "1. **Unpacking lists**\n",
    "  * __*__\n",
    "  * __\\**__"
   ]
  },
  {
   "cell_type": "code",
   "execution_count": null,
   "id": "auburn-certification",
   "metadata": {},
   "outputs": [],
   "source": [
    "import math\n",
    "import numpy as np\n",
    "import matplotlib.pyplot as plt"
   ]
  },
  {
   "cell_type": "markdown",
   "id": "searching-tsunami",
   "metadata": {},
   "source": [
    "## IPython and Jupyter notebooks\n",
    "---\n",
    "\n",
    "IPython and Jupyter notebooks are environments for coding in, that tend to make your life much easier.\n",
    "\n",
    "#### Getting help\n",
    "\n",
    "You will need to look at the documentation for functions. It should be one of the first things you do if you have a problem. Read what the arguments do, read what the function returns. Luckily its really easy in jupyter notebooks!\n",
    "\n",
    "Just use `help(function)` or `function?`. The difference is `help` prints the help, whereas `?` brings up a pop-up menu.\n"
   ]
  },
  {
   "cell_type": "code",
   "execution_count": null,
   "id": "charming-difference",
   "metadata": {},
   "outputs": [],
   "source": [
    "help(np.arange)"
   ]
  },
  {
   "cell_type": "code",
   "execution_count": null,
   "id": "spread-stress",
   "metadata": {},
   "outputs": [],
   "source": [
    "np.arange?"
   ]
  },
  {
   "cell_type": "markdown",
   "id": "coupled-subject",
   "metadata": {},
   "source": [
    "This also works on all objects, for example a list. Try it!"
   ]
  },
  {
   "cell_type": "code",
   "execution_count": null,
   "id": "humanitarian-controversy",
   "metadata": {},
   "outputs": [],
   "source": []
  },
  {
   "cell_type": "markdown",
   "id": "union-warren",
   "metadata": {},
   "source": [
    "### [Magic Methods](https://ipython.readthedocs.io/en/stable/interactive/magics.html)\n",
    "\n",
    "IPython has loads of useful tools designed to make your life easier, for a list, use `%magic`:\n"
   ]
  },
  {
   "cell_type": "code",
   "execution_count": null,
   "id": "desperate-publication",
   "metadata": {},
   "outputs": [],
   "source": [
    "%magic"
   ]
  },
  {
   "cell_type": "markdown",
   "id": "illegal-decrease",
   "metadata": {},
   "source": [
    "The only ones I ever use are `%time` and `%timeit`, which time how long it takes for code to execute. The difference is `%timeit` repeats the measurement lots and gives you an average, but this takes longer to run."
   ]
  },
  {
   "cell_type": "code",
   "execution_count": null,
   "id": "modified-pierre",
   "metadata": {},
   "outputs": [],
   "source": [
    "def useless_function():\n",
    "    for i in range(1000):\n",
    "        x = 1 "
   ]
  },
  {
   "cell_type": "code",
   "execution_count": null,
   "id": "central-practitioner",
   "metadata": {
    "scrolled": true
   },
   "outputs": [],
   "source": [
    "print(\"The result using `%time`:\\n\")\n",
    "%time useless_function()\n",
    "\n",
    "print(\"\\nThe result using `%timeit`:\\n\")\n",
    "%timeit useless_function"
   ]
  },
  {
   "cell_type": "markdown",
   "id": "assisted-difficulty",
   "metadata": {},
   "source": [
    "#### `%` vs `%%`\n",
    "Magic methods begin with a `%` when they apply to the line they are on, and `%%` when they apply to the whole cell.\n",
    "\n",
    "By default you don't even need the `%`, but I think it makes it easier to see what you're doing."
   ]
  },
  {
   "cell_type": "code",
   "execution_count": null,
   "id": "static-hands",
   "metadata": {},
   "outputs": [],
   "source": [
    "x = np.random.random(1000)\n",
    "%timeit x**2"
   ]
  },
  {
   "cell_type": "code",
   "execution_count": null,
   "id": "arabic-engine",
   "metadata": {},
   "outputs": [],
   "source": [
    "%%timeit\n",
    "x = np.random.random(1000)\n",
    "x**2"
   ]
  },
  {
   "cell_type": "markdown",
   "id": "fatal-fantasy",
   "metadata": {},
   "source": [
    "Above, the first cell only times how long it takes to square the numbers, whereas the second times how long it takes to generate *and* square them."
   ]
  },
  {
   "cell_type": "markdown",
   "id": "grave-question",
   "metadata": {},
   "source": [
    "### Markdown\n",
    "Markdown is a markup language, which means you can do some nice formatting, and make your notebooks much easier to read. **The goal is to write code that's easy to read**. It makes it easier for you to see what you did when you come back later, easier for others to help you, and easier to mark too. Explaining what you're going to do before you do it is a good way to do it.\n",
    "\n",
    "The best way to learn is to experiment, and try to see how it works\n",
    "\n",
    "Here's a quick rundown:\n",
    "* You can use different numbers of hashes `#` to start a heading/subheading\n",
    "* You can use `*` or `1.` to start lists (the number you use doesn't matter):\n",
    "  1. first\n",
    "  1. second\n",
    "  185. third\n",
    "* Wrapping text in `*text*` or `_text_` makes it *italic*\n",
    "* Using `**text**` or `__text__` makes it **bold**\n",
    "* Using backticks (\\` - above tab) makes it `code-y`, and using three makes it *even more* code-y:\n",
    "```python\n",
    "for i in range(10):\n",
    "    print(i)\n",
    "```\n",
    "* If you use `[text](url)` you can include [hyperlinks](https://www.google.co.uk/)\n",
    "* Using `$math$` or `$$math$$` includes $\\LaTeX$"
   ]
  },
  {
   "cell_type": "markdown",
   "id": "incident-transformation",
   "metadata": {},
   "source": [
    "### Autocomplete and Greek letters\n",
    "If you start typing a command and hit tab, it'll come up with a list of suggestions. If there's only one match, it'll autocomplete.\n",
    "\n",
    "Try it below:"
   ]
  },
  {
   "cell_type": "code",
   "execution_count": null,
   "id": "referenced-vintage",
   "metadata": {},
   "outputs": [],
   "source": [
    "variable1 = 1\n",
    "variable2 = 1\n",
    "\n",
    "def function():\n",
    "    pass\n",
    "\n",
    "# type varia then hit tab\n",
    "#varia\n",
    "\n",
    "# now try with fun\n",
    "#fun"
   ]
  },
  {
   "cell_type": "markdown",
   "id": "widespread-livestock",
   "metadata": {},
   "source": [
    "Jupyter notebooks also support greek letters. You type `\\letter`, for example:\n",
    "`\\alpha -> α`"
   ]
  },
  {
   "cell_type": "code",
   "execution_count": null,
   "id": "general-currency",
   "metadata": {},
   "outputs": [],
   "source": [
    "# Type \\alpha, then tab\n",
    "\n",
    "# Try your own"
   ]
  },
  {
   "cell_type": "markdown",
   "id": "polished-sharp",
   "metadata": {},
   "source": [
    "## Strings\n",
    "---\n",
    "\n",
    "### f-strings\n",
    "The syntax is pretty simple really. At the start of a string include an `f`, and then in braces put code that you want evaluated."
   ]
  },
  {
   "cell_type": "code",
   "execution_count": null,
   "id": "incorrect-sport",
   "metadata": {},
   "outputs": [],
   "source": [
    "x = 1\n",
    "y = 2\n",
    "\n",
    "# \"Old\" (not old, still really useful)\n",
    "print(\"{} + {} = {}\".format(x, y, x+y))\n",
    "\n",
    "# \"New\" (its not really new anymore)\n",
    "print(f\"{x} + {y} = {x+y}\")"
   ]
  },
  {
   "cell_type": "markdown",
   "id": "listed-remark",
   "metadata": {},
   "source": [
    "You can do a lot of [formatting in strings](https://docs.python.org/3/library/string.html#formatspec), the only thing I ever use is:  \n",
    "`f\"{x:.3g}\"`  \n",
    "which uses the best option between a float or scientific notation, to 3 significant figures (very easily changed). Using a capital `G` instead of `g` will result in `1E10` instead of `1e10`."
   ]
  },
  {
   "cell_type": "code",
   "execution_count": null,
   "id": "changed-boring",
   "metadata": {},
   "outputs": [],
   "source": [
    "for x in [1, math.pi, 5**7]:\n",
    "    print(f\"{x:.3g}\")"
   ]
  },
  {
   "cell_type": "markdown",
   "id": "compact-majority",
   "metadata": {},
   "source": [
    "Another useful feature is the ability to print the variable name at the same time by following the variable name with an equals sign `=`. This can still be used alongside any other formatting. You can even include any spaces you'd like."
   ]
  },
  {
   "cell_type": "code",
   "execution_count": null,
   "id": "brazilian-addition",
   "metadata": {},
   "outputs": [],
   "source": [
    "variable = math.factorial(12)\n",
    "\n",
    "# Bog standard\n",
    "print(f\"{variable=}\")\n",
    "\n",
    "# With formatting\n",
    "print(f\"{variable=:.3g}\")\n",
    "\n",
    "# Including spaces\n",
    "print(f\"{variable= }\")\n",
    "print(f\"{variable = }\")"
   ]
  },
  {
   "cell_type": "markdown",
   "id": "naval-translation",
   "metadata": {},
   "source": [
    "### Multi line strings\n",
    "When strings get long its nice to format them a bit nicer to read. For example if you wanted to quote the following:\n",
    "> According to all known laws of aviation, there is no way a bee should be able to fly. Its wings are too small to get its fat little body off the ground. The bee, of course, flies anyway because bees don't care what humans think is impossible."
   ]
  },
  {
   "cell_type": "code",
   "execution_count": null,
   "id": "finished-switch",
   "metadata": {},
   "outputs": [],
   "source": [
    "# Like this, it's too long to fit on the screen. Unwieldy.\n",
    "string = \"According to all known laws of aviation, there is no way a bee should be able to fly. Its wings are too small to get its fat little body off the ground. The bee, of course, flies anyway because bees don't care what humans think is impossible.\"\n",
    "print(string)"
   ]
  },
  {
   "cell_type": "markdown",
   "id": "helpful-announcement",
   "metadata": {},
   "source": [
    "You could get around this using line continuation like `\\`, or using `\"\"\"text\"\"\"`, but I find the way these deal with newlines and spaces to be a bit annoying. Instead, you can just put a bunch of strings next to each other in brackets, and it'll concatenate them for you."
   ]
  },
  {
   "cell_type": "code",
   "execution_count": null,
   "id": "motivated-importance",
   "metadata": {},
   "outputs": [],
   "source": [
    "string = \"According to all known laws of aviation, there is no way a bee should be able to fly. \\\n",
    "Its wings are too small to get its fat little body off the ground. The bee, of course, \\\n",
    "flies anyway because bees don't care what humans think is impossible.\"\n",
    "\n",
    "print(string)"
   ]
  },
  {
   "cell_type": "code",
   "execution_count": null,
   "id": "round-breach",
   "metadata": {},
   "outputs": [],
   "source": [
    "string = \"\"\"According to all known laws of aviation, there is no way a bee should be able to fly. \n",
    "Its wings are too small to get its fat little body off the ground. The bee, of course, \n",
    "flies anyway because bees don't care what humans think is impossible.\"\"\"\n",
    "\n",
    "print(string)"
   ]
  },
  {
   "cell_type": "code",
   "execution_count": null,
   "id": "amino-nickname",
   "metadata": {},
   "outputs": [],
   "source": [
    "string = (\"According to all known laws of aviation, there is no way a bee should be able to fly. \"\n",
    "          \"Its wings are too small to get its fat little body off the ground. The bee, of course, \"\n",
    "          \"flies anyway because bees don't care what humans think is impossible.\")\n",
    "\n",
    "print(string)"
   ]
  },
  {
   "cell_type": "markdown",
   "id": "apart-fundamentals",
   "metadata": {},
   "source": [
    "A simpler example:"
   ]
  },
  {
   "cell_type": "code",
   "execution_count": null,
   "id": "expected-landing",
   "metadata": {},
   "outputs": [],
   "source": [
    "print((\"a\" \"b\"))"
   ]
  },
  {
   "cell_type": "markdown",
   "id": "clean-legend",
   "metadata": {},
   "source": [
    "I just think it makes it a lot easier to format it nicely."
   ]
  },
  {
   "cell_type": "code",
   "execution_count": null,
   "id": "behind-aaron",
   "metadata": {},
   "outputs": [],
   "source": [
    "string = (\"According to all known laws of aviation, there is no way a bee should be able to fly.\\n\"\n",
    "          \"Its wings are too small to get its fat little body off the ground.\\n\" \n",
    "          \"\\n\"\n",
    "          \"The bee, of course, flies anyway because bees don't care what humans think is impossible.\")\n",
    "\n",
    "print(string)"
   ]
  },
  {
   "cell_type": "markdown",
   "id": "macro-theory",
   "metadata": {},
   "source": [
    "## Iteration\n",
    "---\n",
    "\n",
    "The art of doing a thing lots of times.\n",
    "\n",
    "In python there are some pretty good ways to loop through things, often not taught to us!\n",
    "\n",
    "### What you're probably used to\n",
    "I imagine you're familiar with the standard `for i in range(...):` loop."
   ]
  },
  {
   "cell_type": "code",
   "execution_count": null,
   "id": "sublime-minimum",
   "metadata": {},
   "outputs": [],
   "source": [
    "for i in range(5):\n",
    "    print(i)"
   ]
  },
  {
   "cell_type": "markdown",
   "id": "centered-portuguese",
   "metadata": {},
   "source": [
    "You can loop through things other than `range` though!\n",
    "\n",
    "### Looping through lists\n",
    "If you have a list, you can iterate through it"
   ]
  },
  {
   "cell_type": "code",
   "execution_count": null,
   "id": "divided-corruption",
   "metadata": {},
   "outputs": [],
   "source": [
    "x = [0, 1, 2, 3, 4]\n",
    "\n",
    "for i in x:\n",
    "    print(i)"
   ]
  },
  {
   "cell_type": "markdown",
   "id": "demonstrated-remains",
   "metadata": {},
   "source": [
    "### Building Lists (List Comprehension)\n",
    "You're probably used to building up lists using something like this:"
   ]
  },
  {
   "cell_type": "code",
   "execution_count": null,
   "id": "assumed-energy",
   "metadata": {},
   "outputs": [],
   "source": [
    "squares = []\n",
    "\n",
    "for i in x:\n",
    "    squares.append(i**2)\n",
    "\n",
    "print(squares)"
   ]
  },
  {
   "cell_type": "markdown",
   "id": "smart-conviction",
   "metadata": {},
   "source": [
    "but there's a much better way (for small amounts of code) - **list comprehension**"
   ]
  },
  {
   "cell_type": "code",
   "execution_count": null,
   "id": "instant-sauce",
   "metadata": {},
   "outputs": [],
   "source": [
    "squares = [i**2 for i in x]\n",
    "\n",
    "print(squares)"
   ]
  },
  {
   "cell_type": "markdown",
   "id": "suspended-train",
   "metadata": {},
   "source": [
    "Essentially if you have a piece of code like:\n",
    "```python\n",
    "new_list = []\n",
    "\n",
    "for x in old_list:\n",
    "    y = \"do something with x\"\n",
    "    new_list.append(y)\n",
    "```\n",
    "\n",
    "you can shift it around to a form:\n",
    "```python\n",
    "new_list = [\"do something with x\" for x in old_list]\n",
    "```\n",
    "\n",
    "If what you'd be doing to calculate `y` is complex, then putting it in a function is a good way to make your code even more readable\n",
    "\n",
    "The cells below demonstate this for finding the area of triangles when you have their side lengths. `sides` is a list where each element is a *tuple* consisting of the three side lengths, $a, b, c$. Heron's formula is used to find the area:\n",
    "$$\n",
    "s = \\frac{a+b+c}{2}\\\\\n",
    "\\mathrm{area} = \\sqrt{s(s-a)(s-b)(s-c)}\n",
    "$$"
   ]
  },
  {
   "cell_type": "code",
   "execution_count": null,
   "id": "compatible-camel",
   "metadata": {},
   "outputs": [],
   "source": [
    "# Find the area of a triangle using Herons formula for each set of side lengths\n",
    "\n",
    "# (a, b, c) for three triangles\n",
    "sides = [(1, 1, 1), (2, 2, 2), (3, 4, 5)]\n",
    "\n",
    "areas = []\n",
    "\n",
    "for x in sides:\n",
    "    s = (x[0] + x[1] + x[2]) / 2\n",
    "    area = math.sqrt(s * (s - x[0]) * (s - x[1]) * (s - x[2]))\n",
    "    areas.append(area)\n",
    "\n",
    "print(areas)"
   ]
  },
  {
   "cell_type": "code",
   "execution_count": null,
   "id": "august-warning",
   "metadata": {},
   "outputs": [],
   "source": [
    "def area(x):\n",
    "    \"\"\"Calculate the area of a triangle, for side lengths given in x=(a, b, c).\"\"\"\n",
    "    a, b, c = x  # Might be unfamiliar syntax, we'll make sure to cover it later\n",
    "    s = (a + b + c) / 2\n",
    "    return math.sqrt(s * (s - a) * (s - b) * (s - c))\n",
    "\n",
    "sides = [(1, 1, 1), (2, 2, 2), (3, 4, 5)]\n",
    "\n",
    "areas = [area(x) for x in sides]\n",
    "\n",
    "print(areas)"
   ]
  },
  {
   "cell_type": "markdown",
   "id": "romantic-polyester",
   "metadata": {},
   "source": [
    "#### Conditionals\n",
    "Sometimes you want to do things but only to certain values. For example you might want to take the sqrt of a number, but only if it's positive. It might seem like list comprehensions are useless now, to add this check we'd have to use a for loop again:"
   ]
  },
  {
   "cell_type": "code",
   "execution_count": null,
   "id": "criminal-coordinate",
   "metadata": {},
   "outputs": [],
   "source": [
    "squares = [0, 1, 2, -3, 4]\n",
    "roots = []\n",
    "\n",
    "for x in squares:\n",
    "    if x >= 0:\n",
    "        roots.append(math.sqrt(x))\n",
    "\n",
    "print(roots)"
   ]
  },
  {
   "cell_type": "markdown",
   "id": "nutritional-uzbekistan",
   "metadata": {},
   "source": [
    "But we can include this `if` statment in the list comprehension:"
   ]
  },
  {
   "cell_type": "code",
   "execution_count": null,
   "id": "suburban-mason",
   "metadata": {},
   "outputs": [],
   "source": [
    "squares = [0, 1, 2, -3, 4]\n",
    "\n",
    "roots = [math.sqrt(x) for x in squares if x >= 0]\n",
    "\n",
    "print(roots)"
   ]
  },
  {
   "cell_type": "markdown",
   "id": "proof-princeton",
   "metadata": {},
   "source": [
    "This is an example of *filtering*.\n",
    "\n",
    "A different way to use conditionals would be using a *ternary operator*:\n",
    "`x if condition else y`"
   ]
  },
  {
   "cell_type": "code",
   "execution_count": null,
   "id": "imported-dietary",
   "metadata": {},
   "outputs": [],
   "source": [
    "lst = [1, -5, 6, -7]\n",
    "\n",
    "sign = [\"positive\" if x > 0 else \"negative\" for x in lst]\n",
    "\n",
    "print(sign)"
   ]
  },
  {
   "cell_type": "markdown",
   "id": "relative-bermuda",
   "metadata": {},
   "source": [
    "This is a piece of python syntax that works outside of list comprehensions."
   ]
  },
  {
   "cell_type": "code",
   "execution_count": null,
   "id": "japanese-peeing",
   "metadata": {},
   "outputs": [],
   "source": [
    "one = True  # Try changing me to False\n",
    "\n",
    "x = 1 if one else 0\n",
    "\n",
    "print(x)"
   ]
  },
  {
   "cell_type": "code",
   "execution_count": null,
   "id": "induced-alaska",
   "metadata": {
    "scrolled": true
   },
   "outputs": [],
   "source": [
    "x = 9\n",
    "\n",
    "statement = \"greater\" if x > 10 else \"lesser\"\n",
    "\n",
    "print(str(x) + \" is \" + statement + \" than 10\")"
   ]
  },
  {
   "cell_type": "markdown",
   "id": "earlier-timothy",
   "metadata": {},
   "source": [
    "## Other ways to loop\n",
    "\n",
    "I bet noone's ever even told you about `enumerate` or `zip`. Which sucks because they're great!\n",
    "\n",
    "See if you can figure out how they work:"
   ]
  },
  {
   "cell_type": "code",
   "execution_count": null,
   "id": "upset-building",
   "metadata": {},
   "outputs": [],
   "source": [
    "lst = [\"a\", \"b\", \"c\"]\n",
    "\n",
    "for x in enumerate(lst):\n",
    "    print(x)"
   ]
  },
  {
   "cell_type": "code",
   "execution_count": null,
   "id": "generous-palestinian",
   "metadata": {},
   "outputs": [],
   "source": [
    "for i, x in enumerate(lst):\n",
    "    print(f\"element {i} is {x}\")"
   ]
  },
  {
   "cell_type": "markdown",
   "id": "dated-consumer",
   "metadata": {},
   "source": [
    "Compare this to using something like `range`:"
   ]
  },
  {
   "cell_type": "code",
   "execution_count": null,
   "id": "smooth-memorabilia",
   "metadata": {},
   "outputs": [],
   "source": [
    "for i in range(len(lst)):\n",
    "    print(f\"element {i} is {lst[i]}\")"
   ]
  },
  {
   "cell_type": "markdown",
   "id": "psychological-sheep",
   "metadata": {},
   "source": [
    "I think it's a lot nicer.\n",
    "\n",
    "### `zip`\n",
    "It might seem like this could be a nicer way to go through two lists:"
   ]
  },
  {
   "cell_type": "code",
   "execution_count": null,
   "id": "hundred-recall",
   "metadata": {},
   "outputs": [],
   "source": [
    "lst1 = [\"a\", \"b\", \"c\"]\n",
    "lst2 = [\"A\", \"B\", \"C\"]\n",
    "\n",
    "for i in range(len(lst1)):\n",
    "    print(f\"lower: {lst1[i]}, upper: {lst2[i]}\")\n",
    "# ew"
   ]
  },
  {
   "cell_type": "code",
   "execution_count": null,
   "id": "numerous-composer",
   "metadata": {},
   "outputs": [],
   "source": [
    "for i, x in enumerate(lst1):\n",
    "    print(f\"lower: {x}, upper: {lst2[i]}\")\n",
    "# lil better, still grim"
   ]
  },
  {
   "cell_type": "code",
   "execution_count": null,
   "id": "approximate-parade",
   "metadata": {},
   "outputs": [],
   "source": [
    "for x, X in zip(lst1, lst2):\n",
    "    print(f\"lower: {x}, upper: {X}\")\n",
    "# now we're getting somewhere"
   ]
  },
  {
   "cell_type": "markdown",
   "id": "improving-barbados",
   "metadata": {},
   "source": [
    "zip takes two or more lists and goes through them at once. Gorgeous. Play around a bit more and see if you get it."
   ]
  },
  {
   "cell_type": "markdown",
   "id": "minute-memphis",
   "metadata": {},
   "source": [
    "## Numpy\n",
    "Im including numpy here as I think a lot of times if you find yourself with something to loop over, numpy has a way to do it.\n",
    "\n",
    "I wouldn't necessarily say easier though. It might still require thinking about, just in a different way.\n",
    "\n",
    "This is incredibly brief because numpy is huuuuuuge.\n",
    "\n",
    "Say you have a list of vector, to find the magnitudes would require something like:"
   ]
  },
  {
   "cell_type": "code",
   "execution_count": null,
   "id": "behavioral-bridges",
   "metadata": {},
   "outputs": [],
   "source": [
    "vectors = [np.array([1, 1, 1]),\n",
    "           np.array([2, 1, 0]),\n",
    "           np.array([0, 0, 0]),\n",
    "           np.array([7, 0, 1]),\n",
    "           np.array([3, 4, 0])]\n",
    "\n",
    "magnitudes = [np.linalg.norm(vector) for vector in vectors]\n",
    "\n",
    "print(magnitudes)"
   ]
  },
  {
   "cell_type": "markdown",
   "id": "wooden-majority",
   "metadata": {},
   "source": [
    "If instead you had an array where the first index referred to different vectors, you could use the `axis` keyword argument."
   ]
  },
  {
   "cell_type": "code",
   "execution_count": null,
   "id": "parental-battery",
   "metadata": {},
   "outputs": [],
   "source": [
    "vectors = [np.array([1, 1, 1]),\n",
    "           np.array([2, 1, 0]),\n",
    "           np.array([0, 0, 0]),\n",
    "           np.array([7, 0, 1]),\n",
    "           np.array([3, 4, 0])]\n",
    "\n",
    "# You could've even planned ahead and defined vectors as an array instead of a list of vectors.\n",
    "\n",
    "vectors = np.stack(vectors)"
   ]
  },
  {
   "cell_type": "markdown",
   "id": "public-mercury",
   "metadata": {},
   "source": [
    "Now, *check vectors is what you expect*!\n",
    "\n",
    "For small data sets we can just print it. If we had loads, it probably wouldn't be helpful.\n",
    "\n",
    "So, what do you expect the `shape` to be? If you looked at the first element, is it the same as the first element above?"
   ]
  },
  {
   "cell_type": "code",
   "execution_count": null,
   "id": "preliminary-bailey",
   "metadata": {},
   "outputs": [],
   "source": [
    "# What you expect?\n",
    "print(vectors.shape)\n",
    "\n",
    "# Get the first element, which should be a 3D vector\n",
    "print(vectors[0])"
   ]
  },
  {
   "cell_type": "markdown",
   "id": "local-satisfaction",
   "metadata": {},
   "source": [
    "Now, we can use the axis keyword. Which one is right? Again, check by looking at the `shape` of the output. 5 vectors means 5 magnitudes."
   ]
  },
  {
   "cell_type": "code",
   "execution_count": null,
   "id": "rocky-lightweight",
   "metadata": {},
   "outputs": [],
   "source": [
    "np.linalg.norm(vectors)  # doesn't work because it's finding the norm of the whole array"
   ]
  },
  {
   "cell_type": "code",
   "execution_count": null,
   "id": "neutral-strategy",
   "metadata": {},
   "outputs": [],
   "source": [
    "np.linalg.norm(vectors, axis=0)"
   ]
  },
  {
   "cell_type": "code",
   "execution_count": null,
   "id": "healthy-cleveland",
   "metadata": {},
   "outputs": [],
   "source": [
    "np.linalg.norm(vectors, axis=1)"
   ]
  },
  {
   "cell_type": "markdown",
   "id": "rural-establishment",
   "metadata": {},
   "source": [
    "If you think of the matrix like this:\n",
    "$$\n",
    "\\begin{matrix}\n",
    " & \\text{axis 1} \\rightarrow \\\\\n",
    "\\text{axis 0} &\\big[\\begin{bmatrix} \\text{vector 0}\\end{bmatrix}  \\\\\n",
    "\\downarrow & \\;\\;\\;\\;\\begin{bmatrix} \\text{vector 1} \\end{bmatrix}\\big]\n",
    "\\end{matrix}\n",
    "$$\n",
    "\n",
    "Then it might be clear that you want to work along axis 1 to find the norm of the vectors, instead of the norm of the columns.\n",
    "\n",
    "How does this problem change if I defined vectors like this:"
   ]
  },
  {
   "cell_type": "code",
   "execution_count": null,
   "id": "electronic-preliminary",
   "metadata": {},
   "outputs": [],
   "source": [
    "vectors = np.array([[1, 2, 0, 7, 3],\n",
    "                    [1, 1, 0, 0, 4],\n",
    "                    [1, 0, 0, 1, 0]])"
   ]
  },
  {
   "cell_type": "markdown",
   "id": "behind-yacht",
   "metadata": {},
   "source": [
    "so each vector is a column instead of a row."
   ]
  },
  {
   "cell_type": "code",
   "execution_count": null,
   "id": "determined-while",
   "metadata": {},
   "outputs": [],
   "source": [
    "# Find the list of norms\n",
    "np.linalg.norm(vectors)"
   ]
  },
  {
   "cell_type": "markdown",
   "id": "peaceful-anatomy",
   "metadata": {},
   "source": [
    "## Functions\n",
    "---\n",
    "\n",
    "### As variables\n",
    "Functions are variables too. You can pass them around and do all sorts with them. You just don't include the brackets, as this is the difference between assigning a function to a variable, and assigning what the function returns to a variable."
   ]
  },
  {
   "cell_type": "code",
   "execution_count": null,
   "id": "forbidden-procurement",
   "metadata": {},
   "outputs": [],
   "source": [
    "# Store the function\n",
    "foo = np.arange\n",
    "print(foo)\n",
    "\n",
    "# Store what the function returns\n",
    "returns = foo(5)\n",
    "print(returns)"
   ]
  },
  {
   "cell_type": "markdown",
   "id": "systematic-chick",
   "metadata": {},
   "source": [
    "### Anonymous Functions\n",
    "One line functions that don't have a name. Called lambda functions in python because the syntax is:\n",
    "```python\n",
    "lambda arguments: return_value\n",
    "```\n",
    "\n",
    "The classic use case is when you need to pass a relatively simple function to another function for some reason.\n",
    "\n",
    "For example, say I want to find the minimum of a parabola, I could write:"
   ]
  },
  {
   "cell_type": "code",
   "execution_count": null,
   "id": "unauthorized-western",
   "metadata": {},
   "outputs": [],
   "source": [
    "from scipy.optimize import minimize_scalar\n",
    "\n",
    "def parabola(x):\n",
    "    return x**2 - 2*x - 10\n",
    "\n",
    "minimize_scalar(parabola, [-10, 10])"
   ]
  },
  {
   "cell_type": "markdown",
   "id": "animated-electron",
   "metadata": {},
   "source": [
    "Or I could just use a lambda function:"
   ]
  },
  {
   "cell_type": "code",
   "execution_count": null,
   "id": "beneficial-johns",
   "metadata": {},
   "outputs": [],
   "source": [
    "minimize_scalar(lambda x: x**2 - 2*x - 10, [-10, 10])"
   ]
  },
  {
   "cell_type": "markdown",
   "id": "blank-pottery",
   "metadata": {},
   "source": [
    "Generally you don't want to do something like:\n",
    "```python\n",
    "parabola = lambda x: x**2 - 2*x - 10\n",
    "```\n",
    "though, because it's less clear and you can't use doscstrings."
   ]
  },
  {
   "cell_type": "markdown",
   "id": "elegant-situation",
   "metadata": {},
   "source": [
    "## Unpacking\n",
    "Included some examples"
   ]
  },
  {
   "cell_type": "code",
   "execution_count": null,
   "id": "nasty-insulin",
   "metadata": {},
   "outputs": [],
   "source": [
    "a = b = 0\n",
    "x = (1, 1)\n",
    "a, b = x"
   ]
  },
  {
   "cell_type": "code",
   "execution_count": null,
   "id": "compound-yorkshire",
   "metadata": {},
   "outputs": [],
   "source": [
    "def function(x, n):\n",
    "    return x**n"
   ]
  },
  {
   "cell_type": "code",
   "execution_count": null,
   "id": "ordinary-leonard",
   "metadata": {},
   "outputs": [],
   "source": [
    "function(2, 3)"
   ]
  },
  {
   "cell_type": "code",
   "execution_count": null,
   "id": "looking-driver",
   "metadata": {},
   "outputs": [],
   "source": [
    "function([2, 3])"
   ]
  },
  {
   "cell_type": "code",
   "execution_count": null,
   "id": "affected-qatar",
   "metadata": {},
   "outputs": [],
   "source": [
    "function(*[2, 3])"
   ]
  },
  {
   "cell_type": "code",
   "execution_count": null,
   "id": "hearing-burning",
   "metadata": {},
   "outputs": [],
   "source": [
    "x, y, z = 0, [1, 2]"
   ]
  },
  {
   "cell_type": "code",
   "execution_count": null,
   "id": "emotional-insulation",
   "metadata": {},
   "outputs": [],
   "source": [
    "x, y, z = 0, *[1, 2]"
   ]
  },
  {
   "cell_type": "code",
   "execution_count": null,
   "id": "metropolitan-strip",
   "metadata": {},
   "outputs": [],
   "source": [
    "def product(*args):\n",
    "    total = 1\n",
    "    for x in args:\n",
    "        total *= x\n",
    "    return total"
   ]
  },
  {
   "cell_type": "code",
   "execution_count": null,
   "id": "collective-tactics",
   "metadata": {},
   "outputs": [],
   "source": [
    "product(1)"
   ]
  },
  {
   "cell_type": "code",
   "execution_count": null,
   "id": "affecting-japanese",
   "metadata": {},
   "outputs": [],
   "source": [
    "product(1, 2, 3)"
   ]
  },
  {
   "cell_type": "code",
   "execution_count": null,
   "id": "further-florist",
   "metadata": {},
   "outputs": [],
   "source": [
    "def keywords(x=0, y=0):\n",
    "    print(f\"x = {x}, y = {y}\")"
   ]
  },
  {
   "cell_type": "code",
   "execution_count": null,
   "id": "royal-clarity",
   "metadata": {},
   "outputs": [],
   "source": [
    "keywords()\n",
    "keywords(1, 2)\n",
    "keywords(x=5, y=0)"
   ]
  },
  {
   "cell_type": "code",
   "execution_count": null,
   "id": "cheap-deviation",
   "metadata": {},
   "outputs": [],
   "source": [
    "kwargs = {'x': 8,\n",
    "          'y': 9}\n",
    "\n",
    "keywords(**kwargs)"
   ]
  },
  {
   "cell_type": "markdown",
   "id": "positive-validation",
   "metadata": {},
   "source": [
    "If you have a function like brentq, where you pass arguments like this:\n",
    "```python\n",
    "brentq(f, a, b, args=(i, j))\n",
    "```\n",
    "where `f` is a function like `f(x, i, j)`, at some point `brentq` will call it like:\n",
    "```python\n",
    "f(x, *args)\n",
    "```\n",
    "which puts `i, j` in the right place. This is used a lot in scipy functions that you pass a funcion too:\n",
    "* root finding\n",
    "* minimization\n",
    "* solving ODEs\n",
    "* integration\n",
    "\n",
    "etc"
   ]
  },
  {
   "cell_type": "code",
   "execution_count": null,
   "id": "fourth-communist",
   "metadata": {},
   "outputs": [],
   "source": []
  }
 ],
 "metadata": {
  "kernelspec": {
   "display_name": "Python 3",
   "language": "python",
   "name": "python3"
  },
  "language_info": {
   "codemirror_mode": {
    "name": "ipython",
    "version": 3
   },
   "file_extension": ".py",
   "mimetype": "text/x-python",
   "name": "python",
   "nbconvert_exporter": "python",
   "pygments_lexer": "ipython3",
   "version": "3.9.2"
  }
 },
 "nbformat": 4,
 "nbformat_minor": 5
}
